{
  "nbformat": 4,
  "nbformat_minor": 0,
  "metadata": {
    "colab": {
      "provenance": [],
      "collapsed_sections": []
    },
    "kernelspec": {
      "name": "python3",
      "display_name": "Python 3"
    },
    "language_info": {
      "name": "python"
    },
    "gpuClass": "standard",
    "accelerator": "GPU"
  },
  "cells": [
    {
      "cell_type": "markdown",
      "source": [
        "## **Clone Git**\n",
        "\n",
        "---\n",
        "\n",
        "\n",
        "Clone git agar dapat load data langsung dari git repository. Dataset yang digunakan didapat kan dari kaggle: https://www.kaggle.com/datasets/sudalairajkumar/cryptocurrencypricehistory?select=coin_Ethereum.csv"
      ],
      "metadata": {
        "id": "F4hfhfPziDeq"
      }
    },
    {
      "cell_type": "code",
      "source": [
        "!git clone https://github.com/ziszz/ethereum-price-predict.git"
      ],
      "metadata": {
        "colab": {
          "base_uri": "https://localhost:8080/"
        },
        "id": "n0FhqXRrTULS",
        "outputId": "28a9db88-cdfa-4f43-a72c-9a4b5f8dedd0"
      },
      "execution_count": 32,
      "outputs": [
        {
          "output_type": "stream",
          "name": "stdout",
          "text": [
            "fatal: destination path 'ethereum-price-predict' already exists and is not an empty directory.\n"
          ]
        }
      ]
    },
    {
      "cell_type": "markdown",
      "source": [
        "## **Import Library**\n",
        "\n",
        "---\n",
        "\n",
        "\n",
        "Import beberapa library yang diperlukan untuk analisa data, visualisasi data dan melatih model"
      ],
      "metadata": {
        "id": "YsvDZq9MipPI"
      }
    },
    {
      "cell_type": "code",
      "execution_count": 33,
      "metadata": {
        "id": "QxWS4PQUj2ph"
      },
      "outputs": [],
      "source": [
        "import pandas as pds\n",
        "import numpy as npy\n",
        "import matplotlib.pyplot as pylt\n",
        "import seaborn as sns\n",
        "import tensorflow as tfl\n",
        "\n",
        "from sklearn.decomposition import PCA\n",
        "from sklearn.preprocessing import MinMaxScaler\n",
        "from sklearn.svm import SVR\n",
        "from sklearn.neighbors import KNeighborsRegressor\n",
        "from sklearn.ensemble import RandomForestRegressor\n",
        "from sklearn.model_selection import GridSearchCV, train_test_split, cross_val_score\n",
        "from sklearn.metrics import mean_squared_error"
      ]
    },
    {
      "cell_type": "markdown",
      "source": [
        "## **Data Loading**\n",
        "\n",
        "---\n",
        "\n"
      ],
      "metadata": {
        "id": "ECwqhw2Wj9k_"
      }
    },
    {
      "cell_type": "code",
      "source": [
        "data_path = '/content/ethereum-price-predict/dataset/coin_Ethereum.csv'\n",
        "\n",
        "df = pd.read_csv(data_path)\n",
        "df"
      ],
      "metadata": {
        "colab": {
          "base_uri": "https://localhost:8080/",
          "height": 423
        },
        "id": "QuA1DFdKTSa-",
        "outputId": "7e7f6d45-9b23-477e-a2f7-12f31788bf31"
      },
      "execution_count": 34,
      "outputs": [
        {
          "output_type": "execute_result",
          "data": {
            "text/plain": [
              "       SNo      Name Symbol                 Date         High          Low  \\\n",
              "0        1  Ethereum    ETH  2015-08-08 23:59:59     2.798810     0.714725   \n",
              "1        2  Ethereum    ETH  2015-08-09 23:59:59     0.879810     0.629191   \n",
              "2        3  Ethereum    ETH  2015-08-10 23:59:59     0.729854     0.636546   \n",
              "3        4  Ethereum    ETH  2015-08-11 23:59:59     1.131410     0.663235   \n",
              "4        5  Ethereum    ETH  2015-08-12 23:59:59     1.289940     0.883608   \n",
              "...    ...       ...    ...                  ...          ...          ...   \n",
              "2155  2156  Ethereum    ETH  2021-07-02 23:59:59  2155.596496  2021.824808   \n",
              "2156  2157  Ethereum    ETH  2021-07-03 23:59:59  2237.567155  2117.590013   \n",
              "2157  2158  Ethereum    ETH  2021-07-04 23:59:59  2384.286857  2190.837703   \n",
              "2158  2159  Ethereum    ETH  2021-07-05 23:59:59  2321.922836  2163.041394   \n",
              "2159  2160  Ethereum    ETH  2021-07-06 23:59:59  2346.294874  2197.919385   \n",
              "\n",
              "             Open        Close        Volume     Marketcap  \n",
              "0        2.793760     0.753325  6.741880e+05  4.548689e+07  \n",
              "1        0.706136     0.701897  5.321700e+05  4.239957e+07  \n",
              "2        0.713989     0.708448  4.052830e+05  4.281836e+07  \n",
              "3        0.708087     1.067860  1.463100e+06  6.456929e+07  \n",
              "4        1.058750     1.217440  2.150620e+06  7.364501e+07  \n",
              "...           ...          ...           ...           ...  \n",
              "2155  2109.892677  2150.040364  3.179621e+10  2.505527e+11  \n",
              "2156  2150.835025  2226.114282  1.743336e+10  2.594475e+11  \n",
              "2157  2226.550382  2321.724112  1.878711e+10  2.706217e+11  \n",
              "2158  2321.922836  2198.582464  2.010379e+10  2.562978e+11  \n",
              "2159  2197.919385  2324.679449  2.089186e+10  2.710286e+11  \n",
              "\n",
              "[2160 rows x 10 columns]"
            ],
            "text/html": [
              "\n",
              "  <div id=\"df-734930aa-5937-4aa2-8bb5-bc5e71115eda\">\n",
              "    <div class=\"colab-df-container\">\n",
              "      <div>\n",
              "<style scoped>\n",
              "    .dataframe tbody tr th:only-of-type {\n",
              "        vertical-align: middle;\n",
              "    }\n",
              "\n",
              "    .dataframe tbody tr th {\n",
              "        vertical-align: top;\n",
              "    }\n",
              "\n",
              "    .dataframe thead th {\n",
              "        text-align: right;\n",
              "    }\n",
              "</style>\n",
              "<table border=\"1\" class=\"dataframe\">\n",
              "  <thead>\n",
              "    <tr style=\"text-align: right;\">\n",
              "      <th></th>\n",
              "      <th>SNo</th>\n",
              "      <th>Name</th>\n",
              "      <th>Symbol</th>\n",
              "      <th>Date</th>\n",
              "      <th>High</th>\n",
              "      <th>Low</th>\n",
              "      <th>Open</th>\n",
              "      <th>Close</th>\n",
              "      <th>Volume</th>\n",
              "      <th>Marketcap</th>\n",
              "    </tr>\n",
              "  </thead>\n",
              "  <tbody>\n",
              "    <tr>\n",
              "      <th>0</th>\n",
              "      <td>1</td>\n",
              "      <td>Ethereum</td>\n",
              "      <td>ETH</td>\n",
              "      <td>2015-08-08 23:59:59</td>\n",
              "      <td>2.798810</td>\n",
              "      <td>0.714725</td>\n",
              "      <td>2.793760</td>\n",
              "      <td>0.753325</td>\n",
              "      <td>6.741880e+05</td>\n",
              "      <td>4.548689e+07</td>\n",
              "    </tr>\n",
              "    <tr>\n",
              "      <th>1</th>\n",
              "      <td>2</td>\n",
              "      <td>Ethereum</td>\n",
              "      <td>ETH</td>\n",
              "      <td>2015-08-09 23:59:59</td>\n",
              "      <td>0.879810</td>\n",
              "      <td>0.629191</td>\n",
              "      <td>0.706136</td>\n",
              "      <td>0.701897</td>\n",
              "      <td>5.321700e+05</td>\n",
              "      <td>4.239957e+07</td>\n",
              "    </tr>\n",
              "    <tr>\n",
              "      <th>2</th>\n",
              "      <td>3</td>\n",
              "      <td>Ethereum</td>\n",
              "      <td>ETH</td>\n",
              "      <td>2015-08-10 23:59:59</td>\n",
              "      <td>0.729854</td>\n",
              "      <td>0.636546</td>\n",
              "      <td>0.713989</td>\n",
              "      <td>0.708448</td>\n",
              "      <td>4.052830e+05</td>\n",
              "      <td>4.281836e+07</td>\n",
              "    </tr>\n",
              "    <tr>\n",
              "      <th>3</th>\n",
              "      <td>4</td>\n",
              "      <td>Ethereum</td>\n",
              "      <td>ETH</td>\n",
              "      <td>2015-08-11 23:59:59</td>\n",
              "      <td>1.131410</td>\n",
              "      <td>0.663235</td>\n",
              "      <td>0.708087</td>\n",
              "      <td>1.067860</td>\n",
              "      <td>1.463100e+06</td>\n",
              "      <td>6.456929e+07</td>\n",
              "    </tr>\n",
              "    <tr>\n",
              "      <th>4</th>\n",
              "      <td>5</td>\n",
              "      <td>Ethereum</td>\n",
              "      <td>ETH</td>\n",
              "      <td>2015-08-12 23:59:59</td>\n",
              "      <td>1.289940</td>\n",
              "      <td>0.883608</td>\n",
              "      <td>1.058750</td>\n",
              "      <td>1.217440</td>\n",
              "      <td>2.150620e+06</td>\n",
              "      <td>7.364501e+07</td>\n",
              "    </tr>\n",
              "    <tr>\n",
              "      <th>...</th>\n",
              "      <td>...</td>\n",
              "      <td>...</td>\n",
              "      <td>...</td>\n",
              "      <td>...</td>\n",
              "      <td>...</td>\n",
              "      <td>...</td>\n",
              "      <td>...</td>\n",
              "      <td>...</td>\n",
              "      <td>...</td>\n",
              "      <td>...</td>\n",
              "    </tr>\n",
              "    <tr>\n",
              "      <th>2155</th>\n",
              "      <td>2156</td>\n",
              "      <td>Ethereum</td>\n",
              "      <td>ETH</td>\n",
              "      <td>2021-07-02 23:59:59</td>\n",
              "      <td>2155.596496</td>\n",
              "      <td>2021.824808</td>\n",
              "      <td>2109.892677</td>\n",
              "      <td>2150.040364</td>\n",
              "      <td>3.179621e+10</td>\n",
              "      <td>2.505527e+11</td>\n",
              "    </tr>\n",
              "    <tr>\n",
              "      <th>2156</th>\n",
              "      <td>2157</td>\n",
              "      <td>Ethereum</td>\n",
              "      <td>ETH</td>\n",
              "      <td>2021-07-03 23:59:59</td>\n",
              "      <td>2237.567155</td>\n",
              "      <td>2117.590013</td>\n",
              "      <td>2150.835025</td>\n",
              "      <td>2226.114282</td>\n",
              "      <td>1.743336e+10</td>\n",
              "      <td>2.594475e+11</td>\n",
              "    </tr>\n",
              "    <tr>\n",
              "      <th>2157</th>\n",
              "      <td>2158</td>\n",
              "      <td>Ethereum</td>\n",
              "      <td>ETH</td>\n",
              "      <td>2021-07-04 23:59:59</td>\n",
              "      <td>2384.286857</td>\n",
              "      <td>2190.837703</td>\n",
              "      <td>2226.550382</td>\n",
              "      <td>2321.724112</td>\n",
              "      <td>1.878711e+10</td>\n",
              "      <td>2.706217e+11</td>\n",
              "    </tr>\n",
              "    <tr>\n",
              "      <th>2158</th>\n",
              "      <td>2159</td>\n",
              "      <td>Ethereum</td>\n",
              "      <td>ETH</td>\n",
              "      <td>2021-07-05 23:59:59</td>\n",
              "      <td>2321.922836</td>\n",
              "      <td>2163.041394</td>\n",
              "      <td>2321.922836</td>\n",
              "      <td>2198.582464</td>\n",
              "      <td>2.010379e+10</td>\n",
              "      <td>2.562978e+11</td>\n",
              "    </tr>\n",
              "    <tr>\n",
              "      <th>2159</th>\n",
              "      <td>2160</td>\n",
              "      <td>Ethereum</td>\n",
              "      <td>ETH</td>\n",
              "      <td>2021-07-06 23:59:59</td>\n",
              "      <td>2346.294874</td>\n",
              "      <td>2197.919385</td>\n",
              "      <td>2197.919385</td>\n",
              "      <td>2324.679449</td>\n",
              "      <td>2.089186e+10</td>\n",
              "      <td>2.710286e+11</td>\n",
              "    </tr>\n",
              "  </tbody>\n",
              "</table>\n",
              "<p>2160 rows × 10 columns</p>\n",
              "</div>\n",
              "      <button class=\"colab-df-convert\" onclick=\"convertToInteractive('df-734930aa-5937-4aa2-8bb5-bc5e71115eda')\"\n",
              "              title=\"Convert this dataframe to an interactive table.\"\n",
              "              style=\"display:none;\">\n",
              "        \n",
              "  <svg xmlns=\"http://www.w3.org/2000/svg\" height=\"24px\"viewBox=\"0 0 24 24\"\n",
              "       width=\"24px\">\n",
              "    <path d=\"M0 0h24v24H0V0z\" fill=\"none\"/>\n",
              "    <path d=\"M18.56 5.44l.94 2.06.94-2.06 2.06-.94-2.06-.94-.94-2.06-.94 2.06-2.06.94zm-11 1L8.5 8.5l.94-2.06 2.06-.94-2.06-.94L8.5 2.5l-.94 2.06-2.06.94zm10 10l.94 2.06.94-2.06 2.06-.94-2.06-.94-.94-2.06-.94 2.06-2.06.94z\"/><path d=\"M17.41 7.96l-1.37-1.37c-.4-.4-.92-.59-1.43-.59-.52 0-1.04.2-1.43.59L10.3 9.45l-7.72 7.72c-.78.78-.78 2.05 0 2.83L4 21.41c.39.39.9.59 1.41.59.51 0 1.02-.2 1.41-.59l7.78-7.78 2.81-2.81c.8-.78.8-2.07 0-2.86zM5.41 20L4 18.59l7.72-7.72 1.47 1.35L5.41 20z\"/>\n",
              "  </svg>\n",
              "      </button>\n",
              "      \n",
              "  <style>\n",
              "    .colab-df-container {\n",
              "      display:flex;\n",
              "      flex-wrap:wrap;\n",
              "      gap: 12px;\n",
              "    }\n",
              "\n",
              "    .colab-df-convert {\n",
              "      background-color: #E8F0FE;\n",
              "      border: none;\n",
              "      border-radius: 50%;\n",
              "      cursor: pointer;\n",
              "      display: none;\n",
              "      fill: #1967D2;\n",
              "      height: 32px;\n",
              "      padding: 0 0 0 0;\n",
              "      width: 32px;\n",
              "    }\n",
              "\n",
              "    .colab-df-convert:hover {\n",
              "      background-color: #E2EBFA;\n",
              "      box-shadow: 0px 1px 2px rgba(60, 64, 67, 0.3), 0px 1px 3px 1px rgba(60, 64, 67, 0.15);\n",
              "      fill: #174EA6;\n",
              "    }\n",
              "\n",
              "    [theme=dark] .colab-df-convert {\n",
              "      background-color: #3B4455;\n",
              "      fill: #D2E3FC;\n",
              "    }\n",
              "\n",
              "    [theme=dark] .colab-df-convert:hover {\n",
              "      background-color: #434B5C;\n",
              "      box-shadow: 0px 1px 3px 1px rgba(0, 0, 0, 0.15);\n",
              "      filter: drop-shadow(0px 1px 2px rgba(0, 0, 0, 0.3));\n",
              "      fill: #FFFFFF;\n",
              "    }\n",
              "  </style>\n",
              "\n",
              "      <script>\n",
              "        const buttonEl =\n",
              "          document.querySelector('#df-734930aa-5937-4aa2-8bb5-bc5e71115eda button.colab-df-convert');\n",
              "        buttonEl.style.display =\n",
              "          google.colab.kernel.accessAllowed ? 'block' : 'none';\n",
              "\n",
              "        async function convertToInteractive(key) {\n",
              "          const element = document.querySelector('#df-734930aa-5937-4aa2-8bb5-bc5e71115eda');\n",
              "          const dataTable =\n",
              "            await google.colab.kernel.invokeFunction('convertToInteractive',\n",
              "                                                     [key], {});\n",
              "          if (!dataTable) return;\n",
              "\n",
              "          const docLinkHtml = 'Like what you see? Visit the ' +\n",
              "            '<a target=\"_blank\" href=https://colab.research.google.com/notebooks/data_table.ipynb>data table notebook</a>'\n",
              "            + ' to learn more about interactive tables.';\n",
              "          element.innerHTML = '';\n",
              "          dataTable['output_type'] = 'display_data';\n",
              "          await google.colab.output.renderOutput(dataTable, element);\n",
              "          const docLink = document.createElement('div');\n",
              "          docLink.innerHTML = docLinkHtml;\n",
              "          element.appendChild(docLink);\n",
              "        }\n",
              "      </script>\n",
              "    </div>\n",
              "  </div>\n",
              "  "
            ]
          },
          "metadata": {},
          "execution_count": 34
        }
      ]
    },
    {
      "cell_type": "markdown",
      "source": [
        "## **Exploratory Data** \n",
        "\n",
        "---\n",
        "\n",
        "### **Variabel-variabel pada dataset adalah sebagai berikut:**\n",
        "\n",
        "* Name: Nama mata uang kripto\n",
        "* Symbol: Simbol mata uang kripto\n",
        "* Date: Tanggal pencatatan data\n",
        "* High : Harga tertinggi pada hari tertentu\n",
        "* Low : Harga terendah pada hari tertentu\n",
        "* Open : Harga pembukaan pada hari tertentu\n",
        "* Close : Harga penutupan pada hari tertentu\n",
        "* Volume : Volume transaksi pada hari tertentu\n",
        "* Mastercap : Kapitalisasi pasar dalam USD"
      ],
      "metadata": {
        "id": "QCV7kwmxloIB"
      }
    },
    {
      "cell_type": "markdown",
      "source": [
        "### **Mengecek informasi pada data**\n",
        "\n",
        "Melakukan pengecekan apakah terdapat missing value pada data dan kesesuaian tipe data"
      ],
      "metadata": {
        "id": "kUxdAiqwoO8C"
      }
    },
    {
      "cell_type": "code",
      "source": [
        "df.info()"
      ],
      "metadata": {
        "colab": {
          "base_uri": "https://localhost:8080/"
        },
        "id": "FjFSzoW_5EIA",
        "outputId": "d8c8f8c0-d397-4957-d2b0-bec1c3bc69c6"
      },
      "execution_count": 35,
      "outputs": [
        {
          "output_type": "stream",
          "name": "stdout",
          "text": [
            "<class 'pandas.core.frame.DataFrame'>\n",
            "RangeIndex: 2160 entries, 0 to 2159\n",
            "Data columns (total 10 columns):\n",
            " #   Column     Non-Null Count  Dtype  \n",
            "---  ------     --------------  -----  \n",
            " 0   SNo        2160 non-null   int64  \n",
            " 1   Name       2160 non-null   object \n",
            " 2   Symbol     2160 non-null   object \n",
            " 3   Date       2160 non-null   object \n",
            " 4   High       2160 non-null   float64\n",
            " 5   Low        2160 non-null   float64\n",
            " 6   Open       2160 non-null   float64\n",
            " 7   Close      2160 non-null   float64\n",
            " 8   Volume     2160 non-null   float64\n",
            " 9   Marketcap  2160 non-null   float64\n",
            "dtypes: float64(6), int64(1), object(3)\n",
            "memory usage: 168.9+ KB\n"
          ]
        }
      ]
    },
    {
      "cell_type": "markdown",
      "source": [
        "Dapat dilihat bahwa tidak terdapat missing value pada dataset"
      ],
      "metadata": {
        "id": "ugX3G9ErrYpi"
      }
    },
    {
      "cell_type": "markdown",
      "source": [
        "### **Informasi Statistik**\n",
        "Data di atas memiliki beberapa informasi statistik pada masing-masing kolom, antara lain:\n",
        "\n",
        "* count adalah jumlah sampel pada data.\n",
        "* mean adalah nilai rata-rata.\n",
        "* std adalah standar deviasi.\n",
        "* min yaitu nilai minimum setiap kolom.\n",
        "* 25% adalah kuartil pertama. Kuartil adalah nilai yang menandai batas interval dalam empat bagian sebaran yang sama.\n",
        "* 50% adalah kuartil kedua, atau biasa juga disebut median (nilai tengah).\n",
        "* 75% adalah kuartil ketiga.\n",
        "* Max adalah nilai maksimum\n",
        "\n",
        "\n",
        "\n"
      ],
      "metadata": {
        "id": "aV_-VzbWqXfm"
      }
    },
    {
      "cell_type": "code",
      "source": [
        "df.describe()"
      ],
      "metadata": {
        "colab": {
          "base_uri": "https://localhost:8080/",
          "height": 300
        },
        "id": "TeDA3YueT3Kk",
        "outputId": "ec1bce4f-97c3-4764-8b72-f6a8de4fcc97"
      },
      "execution_count": 36,
      "outputs": [
        {
          "output_type": "execute_result",
          "data": {
            "text/plain": [
              "               SNo         High          Low         Open        Close  \\\n",
              "count  2160.000000  2160.000000  2160.000000  2160.000000  2160.000000   \n",
              "mean   1080.500000   398.258568   365.592589   382.879899   383.910691   \n",
              "std     623.682612   628.082281   566.611523   599.719862   601.078766   \n",
              "min       1.000000     0.482988     0.420897     0.431589     0.434829   \n",
              "25%     540.750000    14.265225    13.190950    13.757600    13.819200   \n",
              "50%    1080.500000   205.124631   193.302715   198.425096   198.643691   \n",
              "75%    1620.250000   396.494561   375.146804   386.264935   386.435272   \n",
              "max    2160.000000  4362.350542  3785.848603  4174.635873  4168.701049   \n",
              "\n",
              "             Volume     Marketcap  \n",
              "count  2.160000e+03  2.160000e+03  \n",
              "mean   7.057058e+09  4.172084e+10  \n",
              "std    1.064526e+10  6.909184e+10  \n",
              "min    1.021280e+05  3.221363e+07  \n",
              "25%    3.825102e+07  1.135576e+09  \n",
              "50%    2.148880e+09  2.070063e+10  \n",
              "75%    9.629136e+09  4.231010e+10  \n",
              "max    8.448291e+10  4.828819e+11  "
            ],
            "text/html": [
              "\n",
              "  <div id=\"df-366704be-cf06-45bb-9196-1eb97b2e9bc7\">\n",
              "    <div class=\"colab-df-container\">\n",
              "      <div>\n",
              "<style scoped>\n",
              "    .dataframe tbody tr th:only-of-type {\n",
              "        vertical-align: middle;\n",
              "    }\n",
              "\n",
              "    .dataframe tbody tr th {\n",
              "        vertical-align: top;\n",
              "    }\n",
              "\n",
              "    .dataframe thead th {\n",
              "        text-align: right;\n",
              "    }\n",
              "</style>\n",
              "<table border=\"1\" class=\"dataframe\">\n",
              "  <thead>\n",
              "    <tr style=\"text-align: right;\">\n",
              "      <th></th>\n",
              "      <th>SNo</th>\n",
              "      <th>High</th>\n",
              "      <th>Low</th>\n",
              "      <th>Open</th>\n",
              "      <th>Close</th>\n",
              "      <th>Volume</th>\n",
              "      <th>Marketcap</th>\n",
              "    </tr>\n",
              "  </thead>\n",
              "  <tbody>\n",
              "    <tr>\n",
              "      <th>count</th>\n",
              "      <td>2160.000000</td>\n",
              "      <td>2160.000000</td>\n",
              "      <td>2160.000000</td>\n",
              "      <td>2160.000000</td>\n",
              "      <td>2160.000000</td>\n",
              "      <td>2.160000e+03</td>\n",
              "      <td>2.160000e+03</td>\n",
              "    </tr>\n",
              "    <tr>\n",
              "      <th>mean</th>\n",
              "      <td>1080.500000</td>\n",
              "      <td>398.258568</td>\n",
              "      <td>365.592589</td>\n",
              "      <td>382.879899</td>\n",
              "      <td>383.910691</td>\n",
              "      <td>7.057058e+09</td>\n",
              "      <td>4.172084e+10</td>\n",
              "    </tr>\n",
              "    <tr>\n",
              "      <th>std</th>\n",
              "      <td>623.682612</td>\n",
              "      <td>628.082281</td>\n",
              "      <td>566.611523</td>\n",
              "      <td>599.719862</td>\n",
              "      <td>601.078766</td>\n",
              "      <td>1.064526e+10</td>\n",
              "      <td>6.909184e+10</td>\n",
              "    </tr>\n",
              "    <tr>\n",
              "      <th>min</th>\n",
              "      <td>1.000000</td>\n",
              "      <td>0.482988</td>\n",
              "      <td>0.420897</td>\n",
              "      <td>0.431589</td>\n",
              "      <td>0.434829</td>\n",
              "      <td>1.021280e+05</td>\n",
              "      <td>3.221363e+07</td>\n",
              "    </tr>\n",
              "    <tr>\n",
              "      <th>25%</th>\n",
              "      <td>540.750000</td>\n",
              "      <td>14.265225</td>\n",
              "      <td>13.190950</td>\n",
              "      <td>13.757600</td>\n",
              "      <td>13.819200</td>\n",
              "      <td>3.825102e+07</td>\n",
              "      <td>1.135576e+09</td>\n",
              "    </tr>\n",
              "    <tr>\n",
              "      <th>50%</th>\n",
              "      <td>1080.500000</td>\n",
              "      <td>205.124631</td>\n",
              "      <td>193.302715</td>\n",
              "      <td>198.425096</td>\n",
              "      <td>198.643691</td>\n",
              "      <td>2.148880e+09</td>\n",
              "      <td>2.070063e+10</td>\n",
              "    </tr>\n",
              "    <tr>\n",
              "      <th>75%</th>\n",
              "      <td>1620.250000</td>\n",
              "      <td>396.494561</td>\n",
              "      <td>375.146804</td>\n",
              "      <td>386.264935</td>\n",
              "      <td>386.435272</td>\n",
              "      <td>9.629136e+09</td>\n",
              "      <td>4.231010e+10</td>\n",
              "    </tr>\n",
              "    <tr>\n",
              "      <th>max</th>\n",
              "      <td>2160.000000</td>\n",
              "      <td>4362.350542</td>\n",
              "      <td>3785.848603</td>\n",
              "      <td>4174.635873</td>\n",
              "      <td>4168.701049</td>\n",
              "      <td>8.448291e+10</td>\n",
              "      <td>4.828819e+11</td>\n",
              "    </tr>\n",
              "  </tbody>\n",
              "</table>\n",
              "</div>\n",
              "      <button class=\"colab-df-convert\" onclick=\"convertToInteractive('df-366704be-cf06-45bb-9196-1eb97b2e9bc7')\"\n",
              "              title=\"Convert this dataframe to an interactive table.\"\n",
              "              style=\"display:none;\">\n",
              "        \n",
              "  <svg xmlns=\"http://www.w3.org/2000/svg\" height=\"24px\"viewBox=\"0 0 24 24\"\n",
              "       width=\"24px\">\n",
              "    <path d=\"M0 0h24v24H0V0z\" fill=\"none\"/>\n",
              "    <path d=\"M18.56 5.44l.94 2.06.94-2.06 2.06-.94-2.06-.94-.94-2.06-.94 2.06-2.06.94zm-11 1L8.5 8.5l.94-2.06 2.06-.94-2.06-.94L8.5 2.5l-.94 2.06-2.06.94zm10 10l.94 2.06.94-2.06 2.06-.94-2.06-.94-.94-2.06-.94 2.06-2.06.94z\"/><path d=\"M17.41 7.96l-1.37-1.37c-.4-.4-.92-.59-1.43-.59-.52 0-1.04.2-1.43.59L10.3 9.45l-7.72 7.72c-.78.78-.78 2.05 0 2.83L4 21.41c.39.39.9.59 1.41.59.51 0 1.02-.2 1.41-.59l7.78-7.78 2.81-2.81c.8-.78.8-2.07 0-2.86zM5.41 20L4 18.59l7.72-7.72 1.47 1.35L5.41 20z\"/>\n",
              "  </svg>\n",
              "      </button>\n",
              "      \n",
              "  <style>\n",
              "    .colab-df-container {\n",
              "      display:flex;\n",
              "      flex-wrap:wrap;\n",
              "      gap: 12px;\n",
              "    }\n",
              "\n",
              "    .colab-df-convert {\n",
              "      background-color: #E8F0FE;\n",
              "      border: none;\n",
              "      border-radius: 50%;\n",
              "      cursor: pointer;\n",
              "      display: none;\n",
              "      fill: #1967D2;\n",
              "      height: 32px;\n",
              "      padding: 0 0 0 0;\n",
              "      width: 32px;\n",
              "    }\n",
              "\n",
              "    .colab-df-convert:hover {\n",
              "      background-color: #E2EBFA;\n",
              "      box-shadow: 0px 1px 2px rgba(60, 64, 67, 0.3), 0px 1px 3px 1px rgba(60, 64, 67, 0.15);\n",
              "      fill: #174EA6;\n",
              "    }\n",
              "\n",
              "    [theme=dark] .colab-df-convert {\n",
              "      background-color: #3B4455;\n",
              "      fill: #D2E3FC;\n",
              "    }\n",
              "\n",
              "    [theme=dark] .colab-df-convert:hover {\n",
              "      background-color: #434B5C;\n",
              "      box-shadow: 0px 1px 3px 1px rgba(0, 0, 0, 0.15);\n",
              "      filter: drop-shadow(0px 1px 2px rgba(0, 0, 0, 0.3));\n",
              "      fill: #FFFFFF;\n",
              "    }\n",
              "  </style>\n",
              "\n",
              "      <script>\n",
              "        const buttonEl =\n",
              "          document.querySelector('#df-366704be-cf06-45bb-9196-1eb97b2e9bc7 button.colab-df-convert');\n",
              "        buttonEl.style.display =\n",
              "          google.colab.kernel.accessAllowed ? 'block' : 'none';\n",
              "\n",
              "        async function convertToInteractive(key) {\n",
              "          const element = document.querySelector('#df-366704be-cf06-45bb-9196-1eb97b2e9bc7');\n",
              "          const dataTable =\n",
              "            await google.colab.kernel.invokeFunction('convertToInteractive',\n",
              "                                                     [key], {});\n",
              "          if (!dataTable) return;\n",
              "\n",
              "          const docLinkHtml = 'Like what you see? Visit the ' +\n",
              "            '<a target=\"_blank\" href=https://colab.research.google.com/notebooks/data_table.ipynb>data table notebook</a>'\n",
              "            + ' to learn more about interactive tables.';\n",
              "          element.innerHTML = '';\n",
              "          dataTable['output_type'] = 'display_data';\n",
              "          await google.colab.output.renderOutput(dataTable, element);\n",
              "          const docLink = document.createElement('div');\n",
              "          docLink.innerHTML = docLinkHtml;\n",
              "          element.appendChild(docLink);\n",
              "        }\n",
              "      </script>\n",
              "    </div>\n",
              "  </div>\n",
              "  "
            ]
          },
          "metadata": {},
          "execution_count": 36
        }
      ]
    },
    {
      "cell_type": "markdown",
      "source": [
        "Dapat dilihat pada visualisasi data dibawah. Terdapat banyak data outlier pada masing masing kolom data."
      ],
      "metadata": {
        "id": "czSPDLuNsQZ_"
      }
    },
    {
      "cell_type": "code",
      "source": [
        "numeric_features = df.select_dtypes(include=np.number).columns.tolist()\n",
        "pylt.figure(figsize=(15, 8))\n",
        "\n",
        "for i, col in enumerate(numeric_features):\n",
        "  pylt.subplot(3,3,i+1)\n",
        "  df.boxplot(column=col)"
      ],
      "metadata": {
        "colab": {
          "base_uri": "https://localhost:8080/",
          "height": 333
        },
        "id": "RleWRZFmfcTm",
        "outputId": "a9688634-2b0a-422c-8f9f-a2094043fd59"
      },
      "execution_count": 60,
      "outputs": [
        {
          "output_type": "display_data",
          "data": {
            "text/plain": [
              "<Figure size 1080x576 with 4 Axes>"
            ],
            "image/png": "[encoded data removed]"
          },
          "metadata": {
            "needs_background": "light"
          }
        }
      ]
    },
    {
      "cell_type": "markdown",
      "source": [
        "Terdapat beberapa teknik untuk mengatasi outlier pada data. Pada project ini akan menerapkan teknik IQR Method yaitu dengan menghapus data yang berada diluar interquartile range. Interquartile merupakan range diantara kuartil pertama(25%) dan kuartil ketiga(75%)."
      ],
      "metadata": {
        "id": "Ff67rXGusZk-"
      }
    },
    {
      "cell_type": "code",
      "source": [
        "Q1 = df.quantile(.25)\n",
        "Q3 = df.quantile(.75)\n",
        "\n",
        "IQR = Q3 - Q1\n",
        "\n",
        "bot_treshold = Q1 - 1.5 * IQR\n",
        "top_treshold = Q3 + 1.5 * IQR\n",
        "\n",
        "df = df[~((df < bot_treshold) | (df > top_treshold)).any(axis=1)]\n",
        "df.shape"
      ],
      "metadata": {
        "colab": {
          "base_uri": "https://localhost:8080/"
        },
        "id": "FFztZRODgSJf",
        "outputId": "f4b3a4f6-cf2c-4987-a0ab-a5d8480c42ac"
      },
      "execution_count": 38,
      "outputs": [
        {
          "output_type": "stream",
          "name": "stderr",
          "text": [
            "/usr/local/lib/python3.7/dist-packages/ipykernel_launcher.py:9: FutureWarning: Automatic reindexing on DataFrame vs Series comparisons is deprecated and will raise ValueError in a future version.  Do `left, right = left.align(right, axis=1, copy=False)` before e.g. `left == right`\n",
            "  if __name__ == '__main__':\n"
          ]
        },
        {
          "output_type": "execute_result",
          "data": {
            "text/plain": [
              "(1918, 10)"
            ]
          },
          "metadata": {},
          "execution_count": 38
        }
      ]
    },
    {
      "cell_type": "markdown",
      "source": [
        "### **Univariate Analysis**\n",
        "Karena target prediksi dari dataset ini ada pada fitur Close_Price yang merupakan harga crypto coin Ethereum, jadi hanya fokus menganalisis korelasi data pada feature tersebut. Dari hasil visualisasi data dibawah dapat disimpulkan bahwa peningkatan harga crypto coin ethereum sebanding dengan penurunan jumlah sampel data."
      ],
      "metadata": {
        "id": "wQwOjHSMuI7R"
      }
    },
    {
      "cell_type": "code",
      "source": [
        "df.hist(bins=50, figsize=(15, 10))\n",
        "pylt.show()"
      ],
      "metadata": {
        "colab": {
          "base_uri": "https://localhost:8080/",
          "height": 608
        },
        "id": "k0KPBWnZCQjg",
        "outputId": "62c57e8d-51b3-423b-8321-646640b7ebfe"
      },
      "execution_count": 61,
      "outputs": [
        {
          "output_type": "display_data",
          "data": {
            "text/plain": [
              "<Figure size 1080x720 with 4 Axes>"
            ],
            "image/png": "[encoded data removed]"
          },
          "metadata": {
            "needs_background": "light"
          }
        }
      ]
    },
    {
      "cell_type": "markdown",
      "source": [
        "### **Multivariate Analysis**\n",
        "Jika di lihat dari visualisasi data dibawah. Fitur Close pada sumbu y memiliki korelasi dengan data pada fitur High, Low, Open, dan Marketcap. Korelasi yang terdapat pada data-data tersebut merupakan korelas yang tinggi, sedangkan untuk fitur Volume terlihat memiliki korelasi yang cukup lemah karena sebaran datanya tidak membentuk pola."
      ],
      "metadata": {
        "id": "9oF1ATYly6Au"
      }
    },
    {
      "cell_type": "code",
      "source": [
        "sns.pairplot(df, diag_kind = 'kde')\n",
        "pylt.show()"
      ],
      "metadata": {
        "colab": {
          "base_uri": "https://localhost:8080/",
          "height": 726
        },
        "id": "yswBTSNkEui1",
        "outputId": "ec088cb7-3e94-4708-e2fe-dfc4e9dc9cb3"
      },
      "execution_count": 64,
      "outputs": [
        {
          "output_type": "display_data",
          "data": {
            "text/plain": [
              "<Figure size 720x720 with 20 Axes>"
            ],
            "image/png": "[encoded data removed]"
          },
          "metadata": {
            "needs_background": "light"
          }
        }
      ]
    },
    {
      "cell_type": "markdown",
      "source": [
        "Untuk lebih jelasnya dapat dilihat melalui visualisasi dibawah yang menunjukkan skor korelasi di tiap fitur dengan fitur Close. Pada fitur High, Low, Open dan Marketcap memiliki skor korelasi yang terbilang tinggi yaitu di atas 0.9. Sedangkan pada fitur Volume memiliki skor korelasi yang cukup rendah yaitu 0.38. Sehingga fitur Volume ini dapat didrop dari dataset."
      ],
      "metadata": {
        "id": "zLdWPSZjmXAU"
      }
    },
    {
      "cell_type": "code",
      "source": [
        "plt.figure(figsize=(10, 8))\n",
        "correlation_matrix = df.corr().round(2)\n",
        " \n",
        "sns.heatmap(data=correlation_matrix, annot=True, cmap='coolwarm', linewidths=0.5)\n",
        "plt.title(\"Correlation Matrix untuk Fitur Numerik \", size=20)"
      ],
      "metadata": {
        "colab": {
          "base_uri": "https://localhost:8080/",
          "height": 523
        },
        "id": "4CkOhq6QGeAa",
        "outputId": "dde8ba23-b7d6-413d-dd2a-cd874d4475d6"
      },
      "execution_count": 67,
      "outputs": [
        {
          "output_type": "execute_result",
          "data": {
            "text/plain": [
              "Text(0.5, 1.0, 'Correlation Matrix untuk Fitur Numerik ')"
            ]
          },
          "metadata": {},
          "execution_count": 67
        },
        {
          "output_type": "display_data",
          "data": {
            "text/plain": [
              "<Figure size 720x576 with 2 Axes>"
            ],
            "image/png": "[encoded data removed]"
          },
          "metadata": {
            "needs_background": "light"
          }
        }
      ]
    },
    {
      "cell_type": "code",
      "source": [
        "df.drop(['Volume'], axis=1, inplace=True)\n",
        "df"
      ],
      "metadata": {
        "colab": {
          "base_uri": "https://localhost:8080/",
          "height": 514
        },
        "id": "Yb-p6b0AYXfl",
        "outputId": "22c66a27-c67b-4dc3-e49e-872d35ab1dfb"
      },
      "execution_count": 42,
      "outputs": [
        {
          "output_type": "stream",
          "name": "stderr",
          "text": [
            "/usr/local/lib/python3.7/dist-packages/pandas/core/frame.py:4913: SettingWithCopyWarning: \n",
            "A value is trying to be set on a copy of a slice from a DataFrame\n",
            "\n",
            "See the caveats in the documentation: https://pandas.pydata.org/pandas-docs/stable/user_guide/indexing.html#returning-a-view-versus-a-copy\n",
            "  errors=errors,\n"
          ]
        },
        {
          "output_type": "execute_result",
          "data": {
            "text/plain": [
              "       SNo      Name Symbol                 Date        High         Low  \\\n",
              "0        1  Ethereum    ETH  2015-08-08 23:59:59    2.798810    0.714725   \n",
              "1        2  Ethereum    ETH  2015-08-09 23:59:59    0.879810    0.629191   \n",
              "2        3  Ethereum    ETH  2015-08-10 23:59:59    0.729854    0.636546   \n",
              "3        4  Ethereum    ETH  2015-08-11 23:59:59    1.131410    0.663235   \n",
              "4        5  Ethereum    ETH  2015-08-12 23:59:59    1.289940    0.883608   \n",
              "...    ...       ...    ...                  ...         ...         ...   \n",
              "1970  1971  Ethereum    ETH  2020-12-29 23:59:59  737.952903  692.149438   \n",
              "1971  1972  Ethereum    ETH  2020-12-30 23:59:59  754.303234  720.988875   \n",
              "1972  1973  Ethereum    ETH  2020-12-31 23:59:59  754.299440  726.511908   \n",
              "1973  1974  Ethereum    ETH  2021-01-01 23:59:59  749.201859  719.792258   \n",
              "1974  1975  Ethereum    ETH  2021-01-02 23:59:59  786.798458  718.109517   \n",
              "\n",
              "            Open       Close     Marketcap  \n",
              "0       2.793760    0.753325  4.548689e+07  \n",
              "1       0.706136    0.701897  4.239957e+07  \n",
              "2       0.713989    0.708448  4.281836e+07  \n",
              "3       0.708087    1.067860  6.456929e+07  \n",
              "4       1.058750    1.217440  7.364501e+07  \n",
              "...          ...         ...           ...  \n",
              "1970  730.358684  731.520119  8.342033e+10  \n",
              "1971  731.472845  751.618972  8.572258e+10  \n",
              "1972  751.626643  737.803398  8.415681e+10  \n",
              "1973  737.708378  730.367569  8.331854e+10  \n",
              "1974  730.402673  774.534968  8.836761e+10  \n",
              "\n",
              "[1918 rows x 9 columns]"
            ],
            "text/html": [
              "\n",
              "  <div id=\"df-8ffefa20-d644-42dd-af47-39d58f03d489\">\n",
              "    <div class=\"colab-df-container\">\n",
              "      <div>\n",
              "<style scoped>\n",
              "    .dataframe tbody tr th:only-of-type {\n",
              "        vertical-align: middle;\n",
              "    }\n",
              "\n",
              "    .dataframe tbody tr th {\n",
              "        vertical-align: top;\n",
              "    }\n",
              "\n",
              "    .dataframe thead th {\n",
              "        text-align: right;\n",
              "    }\n",
              "</style>\n",
              "<table border=\"1\" class=\"dataframe\">\n",
              "  <thead>\n",
              "    <tr style=\"text-align: right;\">\n",
              "      <th></th>\n",
              "      <th>SNo</th>\n",
              "      <th>Name</th>\n",
              "      <th>Symbol</th>\n",
              "      <th>Date</th>\n",
              "      <th>High</th>\n",
              "      <th>Low</th>\n",
              "      <th>Open</th>\n",
              "      <th>Close</th>\n",
              "      <th>Marketcap</th>\n",
              "    </tr>\n",
              "  </thead>\n",
              "  <tbody>\n",
              "    <tr>\n",
              "      <th>0</th>\n",
              "      <td>1</td>\n",
              "      <td>Ethereum</td>\n",
              "      <td>ETH</td>\n",
              "      <td>2015-08-08 23:59:59</td>\n",
              "      <td>2.798810</td>\n",
              "      <td>0.714725</td>\n",
              "      <td>2.793760</td>\n",
              "      <td>0.753325</td>\n",
              "      <td>4.548689e+07</td>\n",
              "    </tr>\n",
              "    <tr>\n",
              "      <th>1</th>\n",
              "      <td>2</td>\n",
              "      <td>Ethereum</td>\n",
              "      <td>ETH</td>\n",
              "      <td>2015-08-09 23:59:59</td>\n",
              "      <td>0.879810</td>\n",
              "      <td>0.629191</td>\n",
              "      <td>0.706136</td>\n",
              "      <td>0.701897</td>\n",
              "      <td>4.239957e+07</td>\n",
              "    </tr>\n",
              "    <tr>\n",
              "      <th>2</th>\n",
              "      <td>3</td>\n",
              "      <td>Ethereum</td>\n",
              "      <td>ETH</td>\n",
              "      <td>2015-08-10 23:59:59</td>\n",
              "      <td>0.729854</td>\n",
              "      <td>0.636546</td>\n",
              "      <td>0.713989</td>\n",
              "      <td>0.708448</td>\n",
              "      <td>4.281836e+07</td>\n",
              "    </tr>\n",
              "    <tr>\n",
              "      <th>3</th>\n",
              "      <td>4</td>\n",
              "      <td>Ethereum</td>\n",
              "      <td>ETH</td>\n",
              "      <td>2015-08-11 23:59:59</td>\n",
              "      <td>1.131410</td>\n",
              "      <td>0.663235</td>\n",
              "      <td>0.708087</td>\n",
              "      <td>1.067860</td>\n",
              "      <td>6.456929e+07</td>\n",
              "    </tr>\n",
              "    <tr>\n",
              "      <th>4</th>\n",
              "      <td>5</td>\n",
              "      <td>Ethereum</td>\n",
              "      <td>ETH</td>\n",
              "      <td>2015-08-12 23:59:59</td>\n",
              "      <td>1.289940</td>\n",
              "      <td>0.883608</td>\n",
              "      <td>1.058750</td>\n",
              "      <td>1.217440</td>\n",
              "      <td>7.364501e+07</td>\n",
              "    </tr>\n",
              "    <tr>\n",
              "      <th>...</th>\n",
              "      <td>...</td>\n",
              "      <td>...</td>\n",
              "      <td>...</td>\n",
              "      <td>...</td>\n",
              "      <td>...</td>\n",
              "      <td>...</td>\n",
              "      <td>...</td>\n",
              "      <td>...</td>\n",
              "      <td>...</td>\n",
              "    </tr>\n",
              "    <tr>\n",
              "      <th>1970</th>\n",
              "      <td>1971</td>\n",
              "      <td>Ethereum</td>\n",
              "      <td>ETH</td>\n",
              "      <td>2020-12-29 23:59:59</td>\n",
              "      <td>737.952903</td>\n",
              "      <td>692.149438</td>\n",
              "      <td>730.358684</td>\n",
              "      <td>731.520119</td>\n",
              "      <td>8.342033e+10</td>\n",
              "    </tr>\n",
              "    <tr>\n",
              "      <th>1971</th>\n",
              "      <td>1972</td>\n",
              "      <td>Ethereum</td>\n",
              "      <td>ETH</td>\n",
              "      <td>2020-12-30 23:59:59</td>\n",
              "      <td>754.303234</td>\n",
              "      <td>720.988875</td>\n",
              "      <td>731.472845</td>\n",
              "      <td>751.618972</td>\n",
              "      <td>8.572258e+10</td>\n",
              "    </tr>\n",
              "    <tr>\n",
              "      <th>1972</th>\n",
              "      <td>1973</td>\n",
              "      <td>Ethereum</td>\n",
              "      <td>ETH</td>\n",
              "      <td>2020-12-31 23:59:59</td>\n",
              "      <td>754.299440</td>\n",
              "      <td>726.511908</td>\n",
              "      <td>751.626643</td>\n",
              "      <td>737.803398</td>\n",
              "      <td>8.415681e+10</td>\n",
              "    </tr>\n",
              "    <tr>\n",
              "      <th>1973</th>\n",
              "      <td>1974</td>\n",
              "      <td>Ethereum</td>\n",
              "      <td>ETH</td>\n",
              "      <td>2021-01-01 23:59:59</td>\n",
              "      <td>749.201859</td>\n",
              "      <td>719.792258</td>\n",
              "      <td>737.708378</td>\n",
              "      <td>730.367569</td>\n",
              "      <td>8.331854e+10</td>\n",
              "    </tr>\n",
              "    <tr>\n",
              "      <th>1974</th>\n",
              "      <td>1975</td>\n",
              "      <td>Ethereum</td>\n",
              "      <td>ETH</td>\n",
              "      <td>2021-01-02 23:59:59</td>\n",
              "      <td>786.798458</td>\n",
              "      <td>718.109517</td>\n",
              "      <td>730.402673</td>\n",
              "      <td>774.534968</td>\n",
              "      <td>8.836761e+10</td>\n",
              "    </tr>\n",
              "  </tbody>\n",
              "</table>\n",
              "<p>1918 rows × 9 columns</p>\n",
              "</div>\n",
              "      <button class=\"colab-df-convert\" onclick=\"convertToInteractive('df-8ffefa20-d644-42dd-af47-39d58f03d489')\"\n",
              "              title=\"Convert this dataframe to an interactive table.\"\n",
              "              style=\"display:none;\">\n",
              "        \n",
              "  <svg xmlns=\"http://www.w3.org/2000/svg\" height=\"24px\"viewBox=\"0 0 24 24\"\n",
              "       width=\"24px\">\n",
              "    <path d=\"M0 0h24v24H0V0z\" fill=\"none\"/>\n",
              "    <path d=\"M18.56 5.44l.94 2.06.94-2.06 2.06-.94-2.06-.94-.94-2.06-.94 2.06-2.06.94zm-11 1L8.5 8.5l.94-2.06 2.06-.94-2.06-.94L8.5 2.5l-.94 2.06-2.06.94zm10 10l.94 2.06.94-2.06 2.06-.94-2.06-.94-.94-2.06-.94 2.06-2.06.94z\"/><path d=\"M17.41 7.96l-1.37-1.37c-.4-.4-.92-.59-1.43-.59-.52 0-1.04.2-1.43.59L10.3 9.45l-7.72 7.72c-.78.78-.78 2.05 0 2.83L4 21.41c.39.39.9.59 1.41.59.51 0 1.02-.2 1.41-.59l7.78-7.78 2.81-2.81c.8-.78.8-2.07 0-2.86zM5.41 20L4 18.59l7.72-7.72 1.47 1.35L5.41 20z\"/>\n",
              "  </svg>\n",
              "      </button>\n",
              "      \n",
              "  <style>\n",
              "    .colab-df-container {\n",
              "      display:flex;\n",
              "      flex-wrap:wrap;\n",
              "      gap: 12px;\n",
              "    }\n",
              "\n",
              "    .colab-df-convert {\n",
              "      background-color: #E8F0FE;\n",
              "      border: none;\n",
              "      border-radius: 50%;\n",
              "      cursor: pointer;\n",
              "      display: none;\n",
              "      fill: #1967D2;\n",
              "      height: 32px;\n",
              "      padding: 0 0 0 0;\n",
              "      width: 32px;\n",
              "    }\n",
              "\n",
              "    .colab-df-convert:hover {\n",
              "      background-color: #E2EBFA;\n",
              "      box-shadow: 0px 1px 2px rgba(60, 64, 67, 0.3), 0px 1px 3px 1px rgba(60, 64, 67, 0.15);\n",
              "      fill: #174EA6;\n",
              "    }\n",
              "\n",
              "    [theme=dark] .colab-df-convert {\n",
              "      background-color: #3B4455;\n",
              "      fill: #D2E3FC;\n",
              "    }\n",
              "\n",
              "    [theme=dark] .colab-df-convert:hover {\n",
              "      background-color: #434B5C;\n",
              "      box-shadow: 0px 1px 3px 1px rgba(0, 0, 0, 0.15);\n",
              "      filter: drop-shadow(0px 1px 2px rgba(0, 0, 0, 0.3));\n",
              "      fill: #FFFFFF;\n",
              "    }\n",
              "  </style>\n",
              "\n",
              "      <script>\n",
              "        const buttonEl =\n",
              "          document.querySelector('#df-8ffefa20-d644-42dd-af47-39d58f03d489 button.colab-df-convert');\n",
              "        buttonEl.style.display =\n",
              "          google.colab.kernel.accessAllowed ? 'block' : 'none';\n",
              "\n",
              "        async function convertToInteractive(key) {\n",
              "          const element = document.querySelector('#df-8ffefa20-d644-42dd-af47-39d58f03d489');\n",
              "          const dataTable =\n",
              "            await google.colab.kernel.invokeFunction('convertToInteractive',\n",
              "                                                     [key], {});\n",
              "          if (!dataTable) return;\n",
              "\n",
              "          const docLinkHtml = 'Like what you see? Visit the ' +\n",
              "            '<a target=\"_blank\" href=https://colab.research.google.com/notebooks/data_table.ipynb>data table notebook</a>'\n",
              "            + ' to learn more about interactive tables.';\n",
              "          element.innerHTML = '';\n",
              "          dataTable['output_type'] = 'display_data';\n",
              "          await google.colab.output.renderOutput(dataTable, element);\n",
              "          const docLink = document.createElement('div');\n",
              "          docLink.innerHTML = docLinkHtml;\n",
              "          element.appendChild(docLink);\n",
              "        }\n",
              "      </script>\n",
              "    </div>\n",
              "  </div>\n",
              "  "
            ]
          },
          "metadata": {},
          "execution_count": 42
        }
      ]
    },
    {
      "cell_type": "markdown",
      "source": [
        "## **Data Preparation**\n",
        "\n",
        "---\n",
        "\n",
        "### **Menghapus data yang tidak diperlukan dan merubah nama column**\n",
        "\n",
        "Kolom data seperti (SNo, Name, Symbol, Date, Marketcap) tidak diperlukan untuk pelatihan, karena data tersebut akan mengganggu model dalam mempelajari data. Karena isi dari data tersebut tidak memiliki value yang berarti untuk dipelajari oleh model. Lalu, mengubah nama kolom High, Low, Open, Close menjadi nama kolom yang dapat lebih dipahami.\n"
      ],
      "metadata": {
        "id": "kM__yT9qnYXc"
      }
    },
    {
      "cell_type": "code",
      "source": [
        "unused_columns = ['SNo', 'Name', 'Symbol', 'Date', 'Marketcap']\n",
        "renamed_columns = {'High': 'High_Price', 'Low': 'Low_Price', \n",
        "                   'Open': 'Open_Price', 'Close': 'Close_Price'}\n",
        "\n",
        "df.drop(unused_columns, axis=1, inplace=True)\n",
        "df.rename(columns=renamed_columns, inplace=True)\n",
        "df"
      ],
      "metadata": {
        "colab": {
          "base_uri": "https://localhost:8080/",
          "height": 604
        },
        "id": "uDgnfddVW8tB",
        "outputId": "b37aac30-a0ab-4466-f4a1-ea99174be9cd"
      },
      "execution_count": 43,
      "outputs": [
        {
          "output_type": "stream",
          "name": "stderr",
          "text": [
            "/usr/local/lib/python3.7/dist-packages/pandas/core/frame.py:4913: SettingWithCopyWarning: \n",
            "A value is trying to be set on a copy of a slice from a DataFrame\n",
            "\n",
            "See the caveats in the documentation: https://pandas.pydata.org/pandas-docs/stable/user_guide/indexing.html#returning-a-view-versus-a-copy\n",
            "  errors=errors,\n",
            "/usr/local/lib/python3.7/dist-packages/pandas/core/frame.py:5047: SettingWithCopyWarning: \n",
            "A value is trying to be set on a copy of a slice from a DataFrame\n",
            "\n",
            "See the caveats in the documentation: https://pandas.pydata.org/pandas-docs/stable/user_guide/indexing.html#returning-a-view-versus-a-copy\n",
            "  errors=errors,\n"
          ]
        },
        {
          "output_type": "execute_result",
          "data": {
            "text/plain": [
              "      High_Price   Low_Price  Open_Price  Close_Price\n",
              "0       2.798810    0.714725    2.793760     0.753325\n",
              "1       0.879810    0.629191    0.706136     0.701897\n",
              "2       0.729854    0.636546    0.713989     0.708448\n",
              "3       1.131410    0.663235    0.708087     1.067860\n",
              "4       1.289940    0.883608    1.058750     1.217440\n",
              "...          ...         ...         ...          ...\n",
              "1970  737.952903  692.149438  730.358684   731.520119\n",
              "1971  754.303234  720.988875  731.472845   751.618972\n",
              "1972  754.299440  726.511908  751.626643   737.803398\n",
              "1973  749.201859  719.792258  737.708378   730.367569\n",
              "1974  786.798458  718.109517  730.402673   774.534968\n",
              "\n",
              "[1918 rows x 4 columns]"
            ],
            "text/html": [
              "\n",
              "  <div id=\"df-26d0d1dc-0298-4dd8-a76b-ade261d7d24f\">\n",
              "    <div class=\"colab-df-container\">\n",
              "      <div>\n",
              "<style scoped>\n",
              "    .dataframe tbody tr th:only-of-type {\n",
              "        vertical-align: middle;\n",
              "    }\n",
              "\n",
              "    .dataframe tbody tr th {\n",
              "        vertical-align: top;\n",
              "    }\n",
              "\n",
              "    .dataframe thead th {\n",
              "        text-align: right;\n",
              "    }\n",
              "</style>\n",
              "<table border=\"1\" class=\"dataframe\">\n",
              "  <thead>\n",
              "    <tr style=\"text-align: right;\">\n",
              "      <th></th>\n",
              "      <th>High_Price</th>\n",
              "      <th>Low_Price</th>\n",
              "      <th>Open_Price</th>\n",
              "      <th>Close_Price</th>\n",
              "    </tr>\n",
              "  </thead>\n",
              "  <tbody>\n",
              "    <tr>\n",
              "      <th>0</th>\n",
              "      <td>2.798810</td>\n",
              "      <td>0.714725</td>\n",
              "      <td>2.793760</td>\n",
              "      <td>0.753325</td>\n",
              "    </tr>\n",
              "    <tr>\n",
              "      <th>1</th>\n",
              "      <td>0.879810</td>\n",
              "      <td>0.629191</td>\n",
              "      <td>0.706136</td>\n",
              "      <td>0.701897</td>\n",
              "    </tr>\n",
              "    <tr>\n",
              "      <th>2</th>\n",
              "      <td>0.729854</td>\n",
              "      <td>0.636546</td>\n",
              "      <td>0.713989</td>\n",
              "      <td>0.708448</td>\n",
              "    </tr>\n",
              "    <tr>\n",
              "      <th>3</th>\n",
              "      <td>1.131410</td>\n",
              "      <td>0.663235</td>\n",
              "      <td>0.708087</td>\n",
              "      <td>1.067860</td>\n",
              "    </tr>\n",
              "    <tr>\n",
              "      <th>4</th>\n",
              "      <td>1.289940</td>\n",
              "      <td>0.883608</td>\n",
              "      <td>1.058750</td>\n",
              "      <td>1.217440</td>\n",
              "    </tr>\n",
              "    <tr>\n",
              "      <th>...</th>\n",
              "      <td>...</td>\n",
              "      <td>...</td>\n",
              "      <td>...</td>\n",
              "      <td>...</td>\n",
              "    </tr>\n",
              "    <tr>\n",
              "      <th>1970</th>\n",
              "      <td>737.952903</td>\n",
              "      <td>692.149438</td>\n",
              "      <td>730.358684</td>\n",
              "      <td>731.520119</td>\n",
              "    </tr>\n",
              "    <tr>\n",
              "      <th>1971</th>\n",
              "      <td>754.303234</td>\n",
              "      <td>720.988875</td>\n",
              "      <td>731.472845</td>\n",
              "      <td>751.618972</td>\n",
              "    </tr>\n",
              "    <tr>\n",
              "      <th>1972</th>\n",
              "      <td>754.299440</td>\n",
              "      <td>726.511908</td>\n",
              "      <td>751.626643</td>\n",
              "      <td>737.803398</td>\n",
              "    </tr>\n",
              "    <tr>\n",
              "      <th>1973</th>\n",
              "      <td>749.201859</td>\n",
              "      <td>719.792258</td>\n",
              "      <td>737.708378</td>\n",
              "      <td>730.367569</td>\n",
              "    </tr>\n",
              "    <tr>\n",
              "      <th>1974</th>\n",
              "      <td>786.798458</td>\n",
              "      <td>718.109517</td>\n",
              "      <td>730.402673</td>\n",
              "      <td>774.534968</td>\n",
              "    </tr>\n",
              "  </tbody>\n",
              "</table>\n",
              "<p>1918 rows × 4 columns</p>\n",
              "</div>\n",
              "      <button class=\"colab-df-convert\" onclick=\"convertToInteractive('df-26d0d1dc-0298-4dd8-a76b-ade261d7d24f')\"\n",
              "              title=\"Convert this dataframe to an interactive table.\"\n",
              "              style=\"display:none;\">\n",
              "        \n",
              "  <svg xmlns=\"http://www.w3.org/2000/svg\" height=\"24px\"viewBox=\"0 0 24 24\"\n",
              "       width=\"24px\">\n",
              "    <path d=\"M0 0h24v24H0V0z\" fill=\"none\"/>\n",
              "    <path d=\"M18.56 5.44l.94 2.06.94-2.06 2.06-.94-2.06-.94-.94-2.06-.94 2.06-2.06.94zm-11 1L8.5 8.5l.94-2.06 2.06-.94-2.06-.94L8.5 2.5l-.94 2.06-2.06.94zm10 10l.94 2.06.94-2.06 2.06-.94-2.06-.94-.94-2.06-.94 2.06-2.06.94z\"/><path d=\"M17.41 7.96l-1.37-1.37c-.4-.4-.92-.59-1.43-.59-.52 0-1.04.2-1.43.59L10.3 9.45l-7.72 7.72c-.78.78-.78 2.05 0 2.83L4 21.41c.39.39.9.59 1.41.59.51 0 1.02-.2 1.41-.59l7.78-7.78 2.81-2.81c.8-.78.8-2.07 0-2.86zM5.41 20L4 18.59l7.72-7.72 1.47 1.35L5.41 20z\"/>\n",
              "  </svg>\n",
              "      </button>\n",
              "      \n",
              "  <style>\n",
              "    .colab-df-container {\n",
              "      display:flex;\n",
              "      flex-wrap:wrap;\n",
              "      gap: 12px;\n",
              "    }\n",
              "\n",
              "    .colab-df-convert {\n",
              "      background-color: #E8F0FE;\n",
              "      border: none;\n",
              "      border-radius: 50%;\n",
              "      cursor: pointer;\n",
              "      display: none;\n",
              "      fill: #1967D2;\n",
              "      height: 32px;\n",
              "      padding: 0 0 0 0;\n",
              "      width: 32px;\n",
              "    }\n",
              "\n",
              "    .colab-df-convert:hover {\n",
              "      background-color: #E2EBFA;\n",
              "      box-shadow: 0px 1px 2px rgba(60, 64, 67, 0.3), 0px 1px 3px 1px rgba(60, 64, 67, 0.15);\n",
              "      fill: #174EA6;\n",
              "    }\n",
              "\n",
              "    [theme=dark] .colab-df-convert {\n",
              "      background-color: #3B4455;\n",
              "      fill: #D2E3FC;\n",
              "    }\n",
              "\n",
              "    [theme=dark] .colab-df-convert:hover {\n",
              "      background-color: #434B5C;\n",
              "      box-shadow: 0px 1px 3px 1px rgba(0, 0, 0, 0.15);\n",
              "      filter: drop-shadow(0px 1px 2px rgba(0, 0, 0, 0.3));\n",
              "      fill: #FFFFFF;\n",
              "    }\n",
              "  </style>\n",
              "\n",
              "      <script>\n",
              "        const buttonEl =\n",
              "          document.querySelector('#df-26d0d1dc-0298-4dd8-a76b-ade261d7d24f button.colab-df-convert');\n",
              "        buttonEl.style.display =\n",
              "          google.colab.kernel.accessAllowed ? 'block' : 'none';\n",
              "\n",
              "        async function convertToInteractive(key) {\n",
              "          const element = document.querySelector('#df-26d0d1dc-0298-4dd8-a76b-ade261d7d24f');\n",
              "          const dataTable =\n",
              "            await google.colab.kernel.invokeFunction('convertToInteractive',\n",
              "                                                     [key], {});\n",
              "          if (!dataTable) return;\n",
              "\n",
              "          const docLinkHtml = 'Like what you see? Visit the ' +\n",
              "            '<a target=\"_blank\" href=https://colab.research.google.com/notebooks/data_table.ipynb>data table notebook</a>'\n",
              "            + ' to learn more about interactive tables.';\n",
              "          element.innerHTML = '';\n",
              "          dataTable['output_type'] = 'display_data';\n",
              "          await google.colab.output.renderOutput(dataTable, element);\n",
              "          const docLink = document.createElement('div');\n",
              "          docLink.innerHTML = docLinkHtml;\n",
              "          element.appendChild(docLink);\n",
              "        }\n",
              "      </script>\n",
              "    </div>\n",
              "  </div>\n",
              "  "
            ]
          },
          "metadata": {},
          "execution_count": 43
        }
      ]
    },
    {
      "cell_type": "markdown",
      "source": [
        "### **Split dataset**\n",
        "Membagi dataset menjadi data training dan data testing"
      ],
      "metadata": {
        "id": "pLNPEjMJkbCt"
      }
    },
    {
      "cell_type": "code",
      "source": [
        "x = df.drop(['Close_Price'], axis=1).values\n",
        "y = df['Close_Price'].values\n",
        "\n",
        "x_train, x_test, y_train, y_test = train_test_split(\n",
        "    x, y, test_size=0.2, random_state=1)\n",
        "\n",
        "print(f'Total # of sample in whole dataset: {len(x)}')\n",
        "print(f'Total # of sample in train dataset: {len(x_train)}')\n",
        "print(f'Total # of sample in test dataset: {len(x_test)}')"
      ],
      "metadata": {
        "colab": {
          "base_uri": "https://localhost:8080/"
        },
        "id": "Q0DdZbjD9Ckq",
        "outputId": "5b3b272b-d6f4-47f1-ef5f-82f6d9308393"
      },
      "execution_count": 44,
      "outputs": [
        {
          "output_type": "stream",
          "name": "stdout",
          "text": [
            "Total # of sample in whole dataset: 1918\n",
            "Total # of sample in train dataset: 1534\n",
            "Total # of sample in test dataset: 384\n"
          ]
        }
      ]
    },
    {
      "cell_type": "markdown",
      "source": [
        "### **Normalisasi data**\n",
        "Melakukan transformasi pada data fitur fitur yang akan dipelajari oleh model menggunakan library MinMaxScaler. MinMaxScaler mentransformasikan fitur dengan menskalakan setiap fitur ke rentang tertentu. Library ini menskalakan dan mentransformasikan setiap fitur secara individual sehingga berada dalam rentang yang diberikan pada set pelatihan, pada library ini memiliki range default antara nol dan satu."
      ],
      "metadata": {
        "id": "OWfTh51NoBXV"
      }
    },
    {
      "cell_type": "code",
      "source": [
        "scaler = MinMaxScaler()\n",
        "x_train = scaler.fit_transform(x_train)"
      ],
      "metadata": {
        "id": "o0verlgS9hW-"
      },
      "execution_count": 45,
      "outputs": []
    },
    {
      "cell_type": "code",
      "source": [
        "models = pd.DataFrame(columns=['train_mse', 'test_mse'],\n",
        "                      index=['KNN', 'RandomForest', 'SVR'])"
      ],
      "metadata": {
        "id": "JoWItp8o-DPB"
      },
      "execution_count": 46,
      "outputs": []
    },
    {
      "cell_type": "markdown",
      "source": [
        "## **Model Development**\n",
        "\n",
        "---\n",
        "\n",
        "\n",
        "### **Tuning Hyperparameters**\n",
        "Melakukan tuning hyperparameters untuk mendapatkan parameter dengan performa terbaik pada model. Untuk melakukan tuning hyperparameter pada proyek ini menggunakan teknik Grid search. Grid search memungkinkan untuk menguji beberapa parameter sekaligus pada sebuah model. Dengan menerapkan teknik ini kita dapat melihat performa model terbaik dengan parameter tertentu. Hasil dari grid search terkadang berbeda setelah kode dijalankan ulang.\n"
      ],
      "metadata": {
        "id": "zf1R1Mr_qTNH"
      }
    },
    {
      "cell_type": "code",
      "source": [
        " svr = SVR()\n",
        " parameters = {\n",
        "     'kernel': ['rbf'],\n",
        "     'C':     [1000, 10000, 100000],\n",
        "     'gamma': [0.3, 0.03, 0.003]\n",
        " }\n",
        "\n",
        " grid_search = GridSearchCV(\n",
        "     svr, \n",
        "     parameters,\n",
        "     cv=5, \n",
        "     verbose=1,\n",
        "     n_jobs=6,\n",
        " )\n",
        "\n",
        " grid_search.fit(x_train, y_train)\n",
        "\n",
        " print(grid_search.best_params_)\n",
        " print(grid_search.best_score_)"
      ],
      "metadata": {
        "id": "iMavMU3hox11",
        "colab": {
          "base_uri": "https://localhost:8080/"
        },
        "outputId": "a1ca64d3-ef23-4074-bf19-2ae3fb77f68b"
      },
      "execution_count": 68,
      "outputs": [
        {
          "output_type": "stream",
          "name": "stdout",
          "text": [
            "Fitting 5 folds for each of 9 candidates, totalling 45 fits\n",
            "{'C': 100000, 'gamma': 0.003, 'kernel': 'rbf'}\n",
            "0.9990220738282304\n"
          ]
        }
      ]
    },
    {
      "cell_type": "code",
      "source": [
        " knn = KNeighborsRegressor()\n",
        " parameters =  {\n",
        "     'n_neighbors': range(1, 25),\n",
        " }\n",
        "\n",
        " grid_search = GridSearchCV(\n",
        "   knn, \n",
        "   parameters, \n",
        "   cv=5,\n",
        "   verbose=1, \n",
        "   n_jobs=6,\n",
        " )\n",
        "\n",
        " grid_search.fit(x_train, y_train)\n",
        "\n",
        " print(grid_search.best_params_)\n",
        " print(grid_search.best_score_)"
      ],
      "metadata": {
        "id": "nQSAR8YC-zkn",
        "colab": {
          "base_uri": "https://localhost:8080/"
        },
        "outputId": "1693fe67-6235-4b09-d482-def62a6b36f7"
      },
      "execution_count": 69,
      "outputs": [
        {
          "output_type": "stream",
          "name": "stdout",
          "text": [
            "Fitting 5 folds for each of 24 candidates, totalling 120 fits\n",
            "{'n_neighbors': 5}\n",
            "0.9980093329140336\n"
          ]
        }
      ]
    },
    {
      "cell_type": "code",
      "source": [
        " rf = RandomForestRegressor()\n",
        " parameters =  {\n",
        "     'n_estimators': range(1, 10),\n",
        "     'max_depth': [16, 32, 64],\n",
        " }\n",
        "\n",
        " grid_search = GridSearchCV(\n",
        "   rf, \n",
        "   parameters, \n",
        "   cv=5,\n",
        "   verbose=1,\n",
        "   n_jobs=6,\n",
        " )\n",
        " grid_search.fit(x_train, y_train)\n",
        "\n",
        " print(grid_search.best_params_)\n",
        " print(grid_search.best_score_)"
      ],
      "metadata": {
        "id": "qAReIGSLoxUI",
        "colab": {
          "base_uri": "https://localhost:8080/"
        },
        "outputId": "d9f1a054-49c3-4b9a-ec39-ecf2f95e091d"
      },
      "execution_count": 70,
      "outputs": [
        {
          "output_type": "stream",
          "name": "stdout",
          "text": [
            "Fitting 5 folds for each of 27 candidates, totalling 135 fits\n",
            "{'max_depth': 16, 'n_estimators': 6}\n",
            "0.997948394062508\n"
          ]
        }
      ]
    },
    {
      "cell_type": "markdown",
      "source": [
        "### **Training Model**\n",
        "**Support Vector Machine**"
      ],
      "metadata": {
        "id": "GfQhjwTTtVwJ"
      }
    },
    {
      "cell_type": "code",
      "source": [
        "svr = SVR(C=100000, gamma=0.003, kernel='rbf')                          \n",
        "svr.fit(x_train, y_train)"
      ],
      "metadata": {
        "colab": {
          "base_uri": "https://localhost:8080/"
        },
        "id": "V1gSHqbV_z7o",
        "outputId": "d4ccf646-dad6-4db7-f001-45e4f27cb0ad"
      },
      "execution_count": 50,
      "outputs": [
        {
          "output_type": "execute_result",
          "data": {
            "text/plain": [
              "SVR(C=100000, gamma=0.003)"
            ]
          },
          "metadata": {},
          "execution_count": 50
        }
      ]
    },
    {
      "cell_type": "markdown",
      "source": [
        "**K-Nearest Neighbours**"
      ],
      "metadata": {
        "id": "88skRX9nt5AT"
      }
    },
    {
      "cell_type": "code",
      "source": [
        "knn = KNeighborsRegressor(n_neighbors=5)\n",
        "knn.fit(x_train, y_train)"
      ],
      "metadata": {
        "colab": {
          "base_uri": "https://localhost:8080/"
        },
        "id": "2qIyLGyq-c9F",
        "outputId": "e6d6d3be-6ed5-428a-aa1e-fe2ff6271647"
      },
      "execution_count": 51,
      "outputs": [
        {
          "output_type": "execute_result",
          "data": {
            "text/plain": [
              "KNeighborsRegressor()"
            ]
          },
          "metadata": {},
          "execution_count": 51
        }
      ]
    },
    {
      "cell_type": "markdown",
      "source": [
        "**Random Forest**"
      ],
      "metadata": {
        "id": "c0ZAByr6tq0T"
      }
    },
    {
      "cell_type": "code",
      "source": [
        "rf = RandomForestRegressor(n_estimators=6, max_depth=16)\n",
        "rf.fit(x_train, y_train)"
      ],
      "metadata": {
        "colab": {
          "base_uri": "https://localhost:8080/"
        },
        "id": "v4iyu22V_JhQ",
        "outputId": "2786e023-8e3d-4cf6-d465-6f4fcc0a4c14"
      },
      "execution_count": 52,
      "outputs": [
        {
          "output_type": "execute_result",
          "data": {
            "text/plain": [
              "RandomForestRegressor(max_depth=16, n_estimators=6)"
            ]
          },
          "metadata": {},
          "execution_count": 52
        }
      ]
    },
    {
      "cell_type": "markdown",
      "source": [
        "### **Model Evaluation**"
      ],
      "metadata": {
        "id": "bhzI01rDuHKt"
      }
    },
    {
      "cell_type": "code",
      "source": [
        "x_test = scaler.transform(x_test)"
      ],
      "metadata": {
        "id": "1qF7Iwcu_5EB"
      },
      "execution_count": 53,
      "outputs": []
    },
    {
      "cell_type": "code",
      "source": [
        "model_dict = {'KNN': knn, 'RandomForest': rf, 'SVR': svr}\n",
        "\n",
        "for name, model in model_dict.items():\n",
        "  models.loc[name, 'train_mse'] = mean_squared_error(y_true=y_train, y_pred=model.predict(x_train))\n",
        "  models.loc[name, 'test_mse'] = mean_squared_error(y_true=y_test, y_pred=model.predict(x_test)) \n",
        "\n",
        "models"
      ],
      "metadata": {
        "colab": {
          "base_uri": "https://localhost:8080/",
          "height": 143
        },
        "id": "c08kVYi9BFKm",
        "outputId": "dfe2b427-1afa-4040-9ace-0c4f817ae0c5"
      },
      "execution_count": 54,
      "outputs": [
        {
          "output_type": "execute_result",
          "data": {
            "text/plain": [
              "              train_mse    test_mse\n",
              "KNN           46.792174   88.978595\n",
              "RandomForest  13.398997  105.483861\n",
              "SVR           37.310558   53.951919"
            ],
            "text/html": [
              "\n",
              "  <div id=\"df-77f67ed8-5748-4979-a5e8-401514972060\">\n",
              "    <div class=\"colab-df-container\">\n",
              "      <div>\n",
              "<style scoped>\n",
              "    .dataframe tbody tr th:only-of-type {\n",
              "        vertical-align: middle;\n",
              "    }\n",
              "\n",
              "    .dataframe tbody tr th {\n",
              "        vertical-align: top;\n",
              "    }\n",
              "\n",
              "    .dataframe thead th {\n",
              "        text-align: right;\n",
              "    }\n",
              "</style>\n",
              "<table border=\"1\" class=\"dataframe\">\n",
              "  <thead>\n",
              "    <tr style=\"text-align: right;\">\n",
              "      <th></th>\n",
              "      <th>train_mse</th>\n",
              "      <th>test_mse</th>\n",
              "    </tr>\n",
              "  </thead>\n",
              "  <tbody>\n",
              "    <tr>\n",
              "      <th>KNN</th>\n",
              "      <td>46.792174</td>\n",
              "      <td>88.978595</td>\n",
              "    </tr>\n",
              "    <tr>\n",
              "      <th>RandomForest</th>\n",
              "      <td>13.398997</td>\n",
              "      <td>105.483861</td>\n",
              "    </tr>\n",
              "    <tr>\n",
              "      <th>SVR</th>\n",
              "      <td>37.310558</td>\n",
              "      <td>53.951919</td>\n",
              "    </tr>\n",
              "  </tbody>\n",
              "</table>\n",
              "</div>\n",
              "      <button class=\"colab-df-convert\" onclick=\"convertToInteractive('df-77f67ed8-5748-4979-a5e8-401514972060')\"\n",
              "              title=\"Convert this dataframe to an interactive table.\"\n",
              "              style=\"display:none;\">\n",
              "        \n",
              "  <svg xmlns=\"http://www.w3.org/2000/svg\" height=\"24px\"viewBox=\"0 0 24 24\"\n",
              "       width=\"24px\">\n",
              "    <path d=\"M0 0h24v24H0V0z\" fill=\"none\"/>\n",
              "    <path d=\"M18.56 5.44l.94 2.06.94-2.06 2.06-.94-2.06-.94-.94-2.06-.94 2.06-2.06.94zm-11 1L8.5 8.5l.94-2.06 2.06-.94-2.06-.94L8.5 2.5l-.94 2.06-2.06.94zm10 10l.94 2.06.94-2.06 2.06-.94-2.06-.94-.94-2.06-.94 2.06-2.06.94z\"/><path d=\"M17.41 7.96l-1.37-1.37c-.4-.4-.92-.59-1.43-.59-.52 0-1.04.2-1.43.59L10.3 9.45l-7.72 7.72c-.78.78-.78 2.05 0 2.83L4 21.41c.39.39.9.59 1.41.59.51 0 1.02-.2 1.41-.59l7.78-7.78 2.81-2.81c.8-.78.8-2.07 0-2.86zM5.41 20L4 18.59l7.72-7.72 1.47 1.35L5.41 20z\"/>\n",
              "  </svg>\n",
              "      </button>\n",
              "      \n",
              "  <style>\n",
              "    .colab-df-container {\n",
              "      display:flex;\n",
              "      flex-wrap:wrap;\n",
              "      gap: 12px;\n",
              "    }\n",
              "\n",
              "    .colab-df-convert {\n",
              "      background-color: #E8F0FE;\n",
              "      border: none;\n",
              "      border-radius: 50%;\n",
              "      cursor: pointer;\n",
              "      display: none;\n",
              "      fill: #1967D2;\n",
              "      height: 32px;\n",
              "      padding: 0 0 0 0;\n",
              "      width: 32px;\n",
              "    }\n",
              "\n",
              "    .colab-df-convert:hover {\n",
              "      background-color: #E2EBFA;\n",
              "      box-shadow: 0px 1px 2px rgba(60, 64, 67, 0.3), 0px 1px 3px 1px rgba(60, 64, 67, 0.15);\n",
              "      fill: #174EA6;\n",
              "    }\n",
              "\n",
              "    [theme=dark] .colab-df-convert {\n",
              "      background-color: #3B4455;\n",
              "      fill: #D2E3FC;\n",
              "    }\n",
              "\n",
              "    [theme=dark] .colab-df-convert:hover {\n",
              "      background-color: #434B5C;\n",
              "      box-shadow: 0px 1px 3px 1px rgba(0, 0, 0, 0.15);\n",
              "      filter: drop-shadow(0px 1px 2px rgba(0, 0, 0, 0.3));\n",
              "      fill: #FFFFFF;\n",
              "    }\n",
              "  </style>\n",
              "\n",
              "      <script>\n",
              "        const buttonEl =\n",
              "          document.querySelector('#df-77f67ed8-5748-4979-a5e8-401514972060 button.colab-df-convert');\n",
              "        buttonEl.style.display =\n",
              "          google.colab.kernel.accessAllowed ? 'block' : 'none';\n",
              "\n",
              "        async function convertToInteractive(key) {\n",
              "          const element = document.querySelector('#df-77f67ed8-5748-4979-a5e8-401514972060');\n",
              "          const dataTable =\n",
              "            await google.colab.kernel.invokeFunction('convertToInteractive',\n",
              "                                                     [key], {});\n",
              "          if (!dataTable) return;\n",
              "\n",
              "          const docLinkHtml = 'Like what you see? Visit the ' +\n",
              "            '<a target=\"_blank\" href=https://colab.research.google.com/notebooks/data_table.ipynb>data table notebook</a>'\n",
              "            + ' to learn more about interactive tables.';\n",
              "          element.innerHTML = '';\n",
              "          dataTable['output_type'] = 'display_data';\n",
              "          await google.colab.output.renderOutput(dataTable, element);\n",
              "          const docLink = document.createElement('div');\n",
              "          docLink.innerHTML = docLinkHtml;\n",
              "          element.appendChild(docLink);\n",
              "        }\n",
              "      </script>\n",
              "    </div>\n",
              "  </div>\n",
              "  "
            ]
          },
          "metadata": {},
          "execution_count": 54
        }
      ]
    },
    {
      "cell_type": "code",
      "source": [
        "fig, ax = plt.subplots()\n",
        "models.sort_values(by='test_mse', ascending=False).plot(kind='barh', ax=ax, zorder=3)\n",
        "ax.grid(zorder=0)"
      ],
      "metadata": {
        "colab": {
          "base_uri": "https://localhost:8080/",
          "height": 265
        },
        "id": "wixUU4_xb1B9",
        "outputId": "2ef956fb-897a-4486-e590-2f807a268f21"
      },
      "execution_count": 55,
      "outputs": [
        {
          "output_type": "display_data",
          "data": {
            "text/plain": [
              "<Figure size 432x288 with 1 Axes>"
            ],
            "image/png": "[encoded data removed]"
          },
          "metadata": {
            "needs_background": "light"
          }
        }
      ]
    },
    {
      "cell_type": "code",
      "source": [
        "test_data = x_test.copy()\n",
        "predictions = {'y_true':y_test}\n",
        "for name, model in model_dict.items():\n",
        "  predictions['prediction_' + name] = model.predict(test_data)\n",
        " \n",
        "predictions = pd.DataFrame(predictions)\n",
        "predictions"
      ],
      "metadata": {
        "colab": {
          "base_uri": "https://localhost:8080/",
          "height": 423
        },
        "id": "huS2iQAbcPfP",
        "outputId": "06f9a5d3-ceb8-4bcd-d3df-e746a72e0812"
      },
      "execution_count": 56,
      "outputs": [
        {
          "output_type": "execute_result",
          "data": {
            "text/plain": [
              "         y_true  prediction_KNN  prediction_RandomForest  prediction_SVR\n",
              "0      0.736223        0.791706                 0.798078        0.754034\n",
              "1    230.768000      230.265595               228.290550      229.661989\n",
              "2    155.638589      158.458130               157.234592      159.359172\n",
              "3      4.399130        4.306944                 3.756798        4.317502\n",
              "4     12.143200       12.143060                12.147900       12.221256\n",
              "..          ...             ...                      ...             ...\n",
              "379   13.025200       12.744720                13.261517       12.881271\n",
              "380  250.464005      223.410935               211.680392      235.847164\n",
              "381  792.310974      786.145801               818.872833      796.418497\n",
              "382   12.416700       11.978180                11.923900       12.119280\n",
              "383  168.834875      170.467438               169.874768      168.766611\n",
              "\n",
              "[384 rows x 4 columns]"
            ],
            "text/html": [
              "\n",
              "  <div id=\"df-c7fcc56e-2411-405e-b6fc-0fb530c9034c\">\n",
              "    <div class=\"colab-df-container\">\n",
              "      <div>\n",
              "<style scoped>\n",
              "    .dataframe tbody tr th:only-of-type {\n",
              "        vertical-align: middle;\n",
              "    }\n",
              "\n",
              "    .dataframe tbody tr th {\n",
              "        vertical-align: top;\n",
              "    }\n",
              "\n",
              "    .dataframe thead th {\n",
              "        text-align: right;\n",
              "    }\n",
              "</style>\n",
              "<table border=\"1\" class=\"dataframe\">\n",
              "  <thead>\n",
              "    <tr style=\"text-align: right;\">\n",
              "      <th></th>\n",
              "      <th>y_true</th>\n",
              "      <th>prediction_KNN</th>\n",
              "      <th>prediction_RandomForest</th>\n",
              "      <th>prediction_SVR</th>\n",
              "    </tr>\n",
              "  </thead>\n",
              "  <tbody>\n",
              "    <tr>\n",
              "      <th>0</th>\n",
              "      <td>0.736223</td>\n",
              "      <td>0.791706</td>\n",
              "      <td>0.798078</td>\n",
              "      <td>0.754034</td>\n",
              "    </tr>\n",
              "    <tr>\n",
              "      <th>1</th>\n",
              "      <td>230.768000</td>\n",
              "      <td>230.265595</td>\n",
              "      <td>228.290550</td>\n",
              "      <td>229.661989</td>\n",
              "    </tr>\n",
              "    <tr>\n",
              "      <th>2</th>\n",
              "      <td>155.638589</td>\n",
              "      <td>158.458130</td>\n",
              "      <td>157.234592</td>\n",
              "      <td>159.359172</td>\n",
              "    </tr>\n",
              "    <tr>\n",
              "      <th>3</th>\n",
              "      <td>4.399130</td>\n",
              "      <td>4.306944</td>\n",
              "      <td>3.756798</td>\n",
              "      <td>4.317502</td>\n",
              "    </tr>\n",
              "    <tr>\n",
              "      <th>4</th>\n",
              "      <td>12.143200</td>\n",
              "      <td>12.143060</td>\n",
              "      <td>12.147900</td>\n",
              "      <td>12.221256</td>\n",
              "    </tr>\n",
              "    <tr>\n",
              "      <th>...</th>\n",
              "      <td>...</td>\n",
              "      <td>...</td>\n",
              "      <td>...</td>\n",
              "      <td>...</td>\n",
              "    </tr>\n",
              "    <tr>\n",
              "      <th>379</th>\n",
              "      <td>13.025200</td>\n",
              "      <td>12.744720</td>\n",
              "      <td>13.261517</td>\n",
              "      <td>12.881271</td>\n",
              "    </tr>\n",
              "    <tr>\n",
              "      <th>380</th>\n",
              "      <td>250.464005</td>\n",
              "      <td>223.410935</td>\n",
              "      <td>211.680392</td>\n",
              "      <td>235.847164</td>\n",
              "    </tr>\n",
              "    <tr>\n",
              "      <th>381</th>\n",
              "      <td>792.310974</td>\n",
              "      <td>786.145801</td>\n",
              "      <td>818.872833</td>\n",
              "      <td>796.418497</td>\n",
              "    </tr>\n",
              "    <tr>\n",
              "      <th>382</th>\n",
              "      <td>12.416700</td>\n",
              "      <td>11.978180</td>\n",
              "      <td>11.923900</td>\n",
              "      <td>12.119280</td>\n",
              "    </tr>\n",
              "    <tr>\n",
              "      <th>383</th>\n",
              "      <td>168.834875</td>\n",
              "      <td>170.467438</td>\n",
              "      <td>169.874768</td>\n",
              "      <td>168.766611</td>\n",
              "    </tr>\n",
              "  </tbody>\n",
              "</table>\n",
              "<p>384 rows × 4 columns</p>\n",
              "</div>\n",
              "      <button class=\"colab-df-convert\" onclick=\"convertToInteractive('df-c7fcc56e-2411-405e-b6fc-0fb530c9034c')\"\n",
              "              title=\"Convert this dataframe to an interactive table.\"\n",
              "              style=\"display:none;\">\n",
              "        \n",
              "  <svg xmlns=\"http://www.w3.org/2000/svg\" height=\"24px\"viewBox=\"0 0 24 24\"\n",
              "       width=\"24px\">\n",
              "    <path d=\"M0 0h24v24H0V0z\" fill=\"none\"/>\n",
              "    <path d=\"M18.56 5.44l.94 2.06.94-2.06 2.06-.94-2.06-.94-.94-2.06-.94 2.06-2.06.94zm-11 1L8.5 8.5l.94-2.06 2.06-.94-2.06-.94L8.5 2.5l-.94 2.06-2.06.94zm10 10l.94 2.06.94-2.06 2.06-.94-2.06-.94-.94-2.06-.94 2.06-2.06.94z\"/><path d=\"M17.41 7.96l-1.37-1.37c-.4-.4-.92-.59-1.43-.59-.52 0-1.04.2-1.43.59L10.3 9.45l-7.72 7.72c-.78.78-.78 2.05 0 2.83L4 21.41c.39.39.9.59 1.41.59.51 0 1.02-.2 1.41-.59l7.78-7.78 2.81-2.81c.8-.78.8-2.07 0-2.86zM5.41 20L4 18.59l7.72-7.72 1.47 1.35L5.41 20z\"/>\n",
              "  </svg>\n",
              "      </button>\n",
              "      \n",
              "  <style>\n",
              "    .colab-df-container {\n",
              "      display:flex;\n",
              "      flex-wrap:wrap;\n",
              "      gap: 12px;\n",
              "    }\n",
              "\n",
              "    .colab-df-convert {\n",
              "      background-color: #E8F0FE;\n",
              "      border: none;\n",
              "      border-radius: 50%;\n",
              "      cursor: pointer;\n",
              "      display: none;\n",
              "      fill: #1967D2;\n",
              "      height: 32px;\n",
              "      padding: 0 0 0 0;\n",
              "      width: 32px;\n",
              "    }\n",
              "\n",
              "    .colab-df-convert:hover {\n",
              "      background-color: #E2EBFA;\n",
              "      box-shadow: 0px 1px 2px rgba(60, 64, 67, 0.3), 0px 1px 3px 1px rgba(60, 64, 67, 0.15);\n",
              "      fill: #174EA6;\n",
              "    }\n",
              "\n",
              "    [theme=dark] .colab-df-convert {\n",
              "      background-color: #3B4455;\n",
              "      fill: #D2E3FC;\n",
              "    }\n",
              "\n",
              "    [theme=dark] .colab-df-convert:hover {\n",
              "      background-color: #434B5C;\n",
              "      box-shadow: 0px 1px 3px 1px rgba(0, 0, 0, 0.15);\n",
              "      filter: drop-shadow(0px 1px 2px rgba(0, 0, 0, 0.3));\n",
              "      fill: #FFFFFF;\n",
              "    }\n",
              "  </style>\n",
              "\n",
              "      <script>\n",
              "        const buttonEl =\n",
              "          document.querySelector('#df-c7fcc56e-2411-405e-b6fc-0fb530c9034c button.colab-df-convert');\n",
              "        buttonEl.style.display =\n",
              "          google.colab.kernel.accessAllowed ? 'block' : 'none';\n",
              "\n",
              "        async function convertToInteractive(key) {\n",
              "          const element = document.querySelector('#df-c7fcc56e-2411-405e-b6fc-0fb530c9034c');\n",
              "          const dataTable =\n",
              "            await google.colab.kernel.invokeFunction('convertToInteractive',\n",
              "                                                     [key], {});\n",
              "          if (!dataTable) return;\n",
              "\n",
              "          const docLinkHtml = 'Like what you see? Visit the ' +\n",
              "            '<a target=\"_blank\" href=https://colab.research.google.com/notebooks/data_table.ipynb>data table notebook</a>'\n",
              "            + ' to learn more about interactive tables.';\n",
              "          element.innerHTML = '';\n",
              "          dataTable['output_type'] = 'display_data';\n",
              "          await google.colab.output.renderOutput(dataTable, element);\n",
              "          const docLink = document.createElement('div');\n",
              "          docLink.innerHTML = docLinkHtml;\n",
              "          element.appendChild(docLink);\n",
              "        }\n",
              "      </script>\n",
              "    </div>\n",
              "  </div>\n",
              "  "
            ]
          },
          "metadata": {},
          "execution_count": 56
        }
      ]
    },
    {
      "cell_type": "code",
      "source": [
        "predictions = predictions.tail(10)\n",
        "predictions.plot(kind='bar',figsize=(16,10))\n",
        "pylt.grid(which='major', linestyle='-', linewidth='0.5', color='green')\n",
        "pylt.grid(which='minor', linestyle=':', linewidth='0.5', color='black')\n",
        "pylt.show()"
      ],
      "metadata": {
        "colab": {
          "base_uri": "https://localhost:8080/",
          "height": 601
        },
        "id": "wcIpf3KABKkk",
        "outputId": "74d33860-13f8-4dd4-e6b2-99b2e4e5da66"
      },
      "execution_count": 71,
      "outputs": [
        {
          "output_type": "display_data",
          "data": {
            "text/plain": [
              "<Figure size 1152x720 with 1 Axes>"
            ],
            "image/png": "[encoded data removed]"
          },
          "metadata": {
            "needs_background": "light"
          }
        }
      ]
    },
    {
      "cell_type": "markdown",
      "source": [
        "Dari ketiga model yang digunakan. Terlihat bahwa hampir semua model yang digunakan memiliki hasil prediksi mendekati dengan hasil yang sebenarnya."
      ],
      "metadata": {
        "id": "MbvSQ_wFwaR1"
      }
    }
  ]
}